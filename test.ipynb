{
 "cells": [
  {
   "cell_type": "code",
   "execution_count": 1,
   "metadata": {},
   "outputs": [],
   "source": [
    "\n",
    "import pandas as pd\n",
    "\n",
    "from numpy import ravel\n",
    "import joblib\n",
    "from sklearn.metrics import accuracy_score\n",
    "from sklearn.metrics import classification_report, confusion_matrix\n",
    "\n"
   ]
  },
  {
   "cell_type": "code",
   "execution_count": 9,
   "metadata": {},
   "outputs": [],
   "source": [
    "features = pd.read_csv('features_split_4.csv')\n",
    "labels = pd.read_csv('labels_split_4.csv')\n"
   ]
  },
  {
   "cell_type": "code",
   "execution_count": 15,
   "metadata": {},
   "outputs": [
    {
     "name": "stdout",
     "output_type": "stream",
     "text": [
      "(4891,)\n",
      "(4891, 10)\n"
     ]
    }
   ],
   "source": [
    "labels=ravel(labels)\n",
    "print(labels.shape)\n",
    "print(features.shape)\n",
    "model = joblib.load('GradientBoosting_BestModel_08287.joblib')\n",
    "scaler_x=joblib.load('scaler.joblib')"
   ]
  },
  {
   "cell_type": "code",
   "execution_count": 16,
   "metadata": {},
   "outputs": [],
   "source": [
    "\n",
    "columns_to_scale = ['AGEP', 'WKHP'] \n",
    "x_scaled = features.copy()\n",
    "x_scaled[columns_to_scale] = scaler_x.transform(features[columns_to_scale])"
   ]
  },
  {
   "cell_type": "code",
   "execution_count": 17,
   "metadata": {},
   "outputs": [
    {
     "name": "stdout",
     "output_type": "stream",
     "text": [
      "accuracy:  0.8325495808628093\n",
      "confusion matrix\n",
      "[[2432  400]\n",
      " [ 419 1640]]\n",
      "classification report\n",
      "              precision    recall  f1-score   support\n",
      "\n",
      "       False       0.85      0.86      0.86      2832\n",
      "        True       0.80      0.80      0.80      2059\n",
      "\n",
      "    accuracy                           0.83      4891\n",
      "   macro avg       0.83      0.83      0.83      4891\n",
      "weighted avg       0.83      0.83      0.83      4891\n",
      "\n"
     ]
    }
   ],
   "source": [
    "y_pred= model.predict(x_scaled)\n",
    "accuracy= accuracy_score(labels,y_pred)\n",
    "conf_matrix= confusion_matrix(labels,y_pred)\n",
    "class_report= classification_report(labels,y_pred)\n",
    "print(\"accuracy: \",accuracy)\n",
    "print(\"confusion matrix\")\n",
    "print(conf_matrix)\n",
    "print(\"classification report\")\n",
    "print(class_report)"
   ]
  },
  {
   "cell_type": "code",
   "execution_count": null,
   "metadata": {},
   "outputs": [],
   "source": []
  }
 ],
 "metadata": {
  "kernelspec": {
   "display_name": "Python 3",
   "language": "python",
   "name": "python3"
  },
  "language_info": {
   "codemirror_mode": {
    "name": "ipython",
    "version": 3
   },
   "file_extension": ".py",
   "mimetype": "text/x-python",
   "name": "python",
   "nbconvert_exporter": "python",
   "pygments_lexer": "ipython3",
   "version": "3.13.0"
  }
 },
 "nbformat": 4,
 "nbformat_minor": 2
}
