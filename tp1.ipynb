{
 "cells": [
  {
   "cell_type": "markdown",
   "metadata": {},
   "source": [
    "# Compréhension du jeu de données"
   ]
  },
  {
   "cell_type": "code",
   "execution_count": 6,
   "metadata": {},
   "outputs": [],
   "source": [
    "import pandas as pd\n",
    "import matplotlib.pyplot as plt\n",
    "from sklearn.model_selection import train_test_split\n",
    "from numpy import ravel\n",
    "import joblib\n",
    "from sklearn.discriminant_analysis import StandardScaler\n",
    "from sklearn.ensemble import RandomForestClassifier\n",
    "from sklearn.metrics import accuracy_score\n",
    "from sklearn.metrics import classification_report, confusion_matrix\n",
    "from sklearn.model_selection import cross_val_score\n",
    "import matplotlib.pyplot as plt\n",
    "from sklearn.ensemble import StackingClassifier\n",
    "from sklearn.linear_model import LogisticRegression\n",
    "from sklearn.ensemble import GradientBoostingClassifier\n",
    "from sklearn.ensemble import AdaBoostClassifier\n",
    "from sklearn.model_selection import GridSearchCV"
   ]
  },
  {
   "cell_type": "markdown",
   "metadata": {},
   "source": [
    "### Fussionner les features et labels"
   ]
  },
  {
   "cell_type": "code",
   "execution_count": 18,
   "metadata": {},
   "outputs": [
    {
     "data": {
      "text/html": [
       "<div>\n",
       "<style scoped>\n",
       "    .dataframe tbody tr th:only-of-type {\n",
       "        vertical-align: middle;\n",
       "    }\n",
       "\n",
       "    .dataframe tbody tr th {\n",
       "        vertical-align: top;\n",
       "    }\n",
       "\n",
       "    .dataframe thead th {\n",
       "        text-align: right;\n",
       "    }\n",
       "</style>\n",
       "<table border=\"1\" class=\"dataframe\">\n",
       "  <thead>\n",
       "    <tr style=\"text-align: right;\">\n",
       "      <th></th>\n",
       "      <th>AGEP</th>\n",
       "      <th>COW</th>\n",
       "      <th>SCHL</th>\n",
       "      <th>MAR</th>\n",
       "      <th>OCCP</th>\n",
       "      <th>POBP</th>\n",
       "      <th>RELP</th>\n",
       "      <th>WKHP</th>\n",
       "      <th>SEX</th>\n",
       "      <th>RAC1P</th>\n",
       "    </tr>\n",
       "  </thead>\n",
       "  <tbody>\n",
       "    <tr>\n",
       "      <th>count</th>\n",
       "      <td>166315.000000</td>\n",
       "      <td>166315.000000</td>\n",
       "      <td>166315.000000</td>\n",
       "      <td>166315.000000</td>\n",
       "      <td>166315.000000</td>\n",
       "      <td>166315.000000</td>\n",
       "      <td>166315.000000</td>\n",
       "      <td>166315.000000</td>\n",
       "      <td>166315.000000</td>\n",
       "      <td>166315.000000</td>\n",
       "    </tr>\n",
       "    <tr>\n",
       "      <th>mean</th>\n",
       "      <td>42.736235</td>\n",
       "      <td>2.144551</td>\n",
       "      <td>18.470054</td>\n",
       "      <td>2.653633</td>\n",
       "      <td>4019.729279</td>\n",
       "      <td>94.364718</td>\n",
       "      <td>2.506617</td>\n",
       "      <td>37.859255</td>\n",
       "      <td>1.471972</td>\n",
       "      <td>3.071623</td>\n",
       "    </tr>\n",
       "    <tr>\n",
       "      <th>std</th>\n",
       "      <td>14.882790</td>\n",
       "      <td>1.888220</td>\n",
       "      <td>3.938362</td>\n",
       "      <td>1.846417</td>\n",
       "      <td>2638.167883</td>\n",
       "      <td>123.472067</td>\n",
       "      <td>4.443905</td>\n",
       "      <td>13.014087</td>\n",
       "      <td>0.499215</td>\n",
       "      <td>2.916045</td>\n",
       "    </tr>\n",
       "    <tr>\n",
       "      <th>min</th>\n",
       "      <td>17.000000</td>\n",
       "      <td>1.000000</td>\n",
       "      <td>1.000000</td>\n",
       "      <td>1.000000</td>\n",
       "      <td>10.000000</td>\n",
       "      <td>1.000000</td>\n",
       "      <td>0.000000</td>\n",
       "      <td>1.000000</td>\n",
       "      <td>1.000000</td>\n",
       "      <td>1.000000</td>\n",
       "    </tr>\n",
       "    <tr>\n",
       "      <th>25%</th>\n",
       "      <td>30.000000</td>\n",
       "      <td>1.000000</td>\n",
       "      <td>16.000000</td>\n",
       "      <td>1.000000</td>\n",
       "      <td>2014.000000</td>\n",
       "      <td>6.000000</td>\n",
       "      <td>0.000000</td>\n",
       "      <td>32.000000</td>\n",
       "      <td>1.000000</td>\n",
       "      <td>1.000000</td>\n",
       "    </tr>\n",
       "    <tr>\n",
       "      <th>50%</th>\n",
       "      <td>42.000000</td>\n",
       "      <td>1.000000</td>\n",
       "      <td>19.000000</td>\n",
       "      <td>1.000000</td>\n",
       "      <td>4110.000000</td>\n",
       "      <td>9.000000</td>\n",
       "      <td>1.000000</td>\n",
       "      <td>40.000000</td>\n",
       "      <td>1.000000</td>\n",
       "      <td>1.000000</td>\n",
       "    </tr>\n",
       "    <tr>\n",
       "      <th>75%</th>\n",
       "      <td>55.000000</td>\n",
       "      <td>3.000000</td>\n",
       "      <td>21.000000</td>\n",
       "      <td>5.000000</td>\n",
       "      <td>5521.000000</td>\n",
       "      <td>212.000000</td>\n",
       "      <td>2.000000</td>\n",
       "      <td>40.000000</td>\n",
       "      <td>2.000000</td>\n",
       "      <td>6.000000</td>\n",
       "    </tr>\n",
       "    <tr>\n",
       "      <th>max</th>\n",
       "      <td>94.000000</td>\n",
       "      <td>8.000000</td>\n",
       "      <td>24.000000</td>\n",
       "      <td>5.000000</td>\n",
       "      <td>9830.000000</td>\n",
       "      <td>554.000000</td>\n",
       "      <td>17.000000</td>\n",
       "      <td>99.000000</td>\n",
       "      <td>2.000000</td>\n",
       "      <td>9.000000</td>\n",
       "    </tr>\n",
       "  </tbody>\n",
       "</table>\n",
       "</div>"
      ],
      "text/plain": [
       "                AGEP            COW           SCHL            MAR  \\\n",
       "count  166315.000000  166315.000000  166315.000000  166315.000000   \n",
       "mean       42.736235       2.144551      18.470054       2.653633   \n",
       "std        14.882790       1.888220       3.938362       1.846417   \n",
       "min        17.000000       1.000000       1.000000       1.000000   \n",
       "25%        30.000000       1.000000      16.000000       1.000000   \n",
       "50%        42.000000       1.000000      19.000000       1.000000   \n",
       "75%        55.000000       3.000000      21.000000       5.000000   \n",
       "max        94.000000       8.000000      24.000000       5.000000   \n",
       "\n",
       "                OCCP           POBP           RELP           WKHP  \\\n",
       "count  166315.000000  166315.000000  166315.000000  166315.000000   \n",
       "mean     4019.729279      94.364718       2.506617      37.859255   \n",
       "std      2638.167883     123.472067       4.443905      13.014087   \n",
       "min        10.000000       1.000000       0.000000       1.000000   \n",
       "25%      2014.000000       6.000000       0.000000      32.000000   \n",
       "50%      4110.000000       9.000000       1.000000      40.000000   \n",
       "75%      5521.000000     212.000000       2.000000      40.000000   \n",
       "max      9830.000000     554.000000      17.000000      99.000000   \n",
       "\n",
       "                 SEX          RAC1P  \n",
       "count  166315.000000  166315.000000  \n",
       "mean        1.471972       3.071623  \n",
       "std         0.499215       2.916045  \n",
       "min         1.000000       1.000000  \n",
       "25%         1.000000       1.000000  \n",
       "50%         1.000000       1.000000  \n",
       "75%         2.000000       6.000000  \n",
       "max         2.000000       9.000000  "
      ]
     },
     "execution_count": 18,
     "metadata": {},
     "output_type": "execute_result"
    }
   ],
   "source": [
    "features = pd.read_csv('alt_acsincome_ca_features_85(1).csv')\n",
    "labels = pd.read_csv('alt_acsincome_ca_labels_85.csv')\n",
    "features.describe()\n"
   ]
  },
  {
   "cell_type": "code",
   "execution_count": 7,
   "metadata": {},
   "outputs": [
    {
     "data": {
      "text/html": [
       "<div>\n",
       "<style scoped>\n",
       "    .dataframe tbody tr th:only-of-type {\n",
       "        vertical-align: middle;\n",
       "    }\n",
       "\n",
       "    .dataframe tbody tr th {\n",
       "        vertical-align: top;\n",
       "    }\n",
       "\n",
       "    .dataframe thead th {\n",
       "        text-align: right;\n",
       "    }\n",
       "</style>\n",
       "<table border=\"1\" class=\"dataframe\">\n",
       "  <thead>\n",
       "    <tr style=\"text-align: right;\">\n",
       "      <th></th>\n",
       "      <th>PINCP</th>\n",
       "    </tr>\n",
       "  </thead>\n",
       "  <tbody>\n",
       "    <tr>\n",
       "      <th>count</th>\n",
       "      <td>166315</td>\n",
       "    </tr>\n",
       "    <tr>\n",
       "      <th>unique</th>\n",
       "      <td>2</td>\n",
       "    </tr>\n",
       "    <tr>\n",
       "      <th>top</th>\n",
       "      <td>False</td>\n",
       "    </tr>\n",
       "    <tr>\n",
       "      <th>freq</th>\n",
       "      <td>98112</td>\n",
       "    </tr>\n",
       "  </tbody>\n",
       "</table>\n",
       "</div>"
      ],
      "text/plain": [
       "         PINCP\n",
       "count   166315\n",
       "unique       2\n",
       "top      False\n",
       "freq     98112"
      ]
     },
     "execution_count": 7,
     "metadata": {},
     "output_type": "execute_result"
    }
   ],
   "source": [
    "labels = pd.read_csv('alt_acsincome_ca_labels_85.csv')\n",
    "labels.describe()\n"
   ]
  },
  {
   "cell_type": "code",
   "execution_count": 8,
   "metadata": {},
   "outputs": [
    {
     "data": {
      "image/png": "[encoded data removed]",
      "text/plain": [
       "<Figure size 1200x800 with 1 Axes>"
      ]
     },
     "metadata": {},
     "output_type": "display_data"
    }
   ],
   "source": [
    "occp_counts = features['OCCP'].value_counts().sort_index()\n",
    "\n",
    "\n",
    "plt.figure(figsize=(12, 8))\n",
    "plt.bar(occp_counts.index, occp_counts.values, edgecolor='k', alpha=0.7)\n",
    "plt.title(\"Distribution of All Occupation Codes (OCCP)\")\n",
    "plt.xlabel(\"Occupation Codes\")\n",
    "plt.ylabel(\"Frequency\")\n",
    "plt.xticks(rotation=90, fontsize=8) \n",
    "plt.grid(axis='y', linestyle='--', alpha=0.7)\n",
    "plt.tight_layout()\n",
    "plt.show()\n"
   ]
  },
  {
   "cell_type": "code",
   "execution_count": 14,
   "metadata": {},
   "outputs": [
    {
     "name": "stdout",
     "output_type": "stream",
     "text": [
      "OCCP\n",
      "440.0     4651\n",
      "4760.0    3637\n",
      "4720.0    3591\n",
      "2310.0    3588\n",
      "9130.0    3354\n",
      "5240.0    3062\n",
      "3255.0    2963\n",
      "4700.0    2744\n",
      "3602.0    2627\n",
      "1021.0    2456\n",
      "5740.0    2441\n",
      "4220.0    2374\n",
      "800.0     2373\n",
      "4110.0    2233\n",
      "6260.0    2212\n",
      "9620.0    2191\n",
      "4020.0    2130\n",
      "5860.0    1988\n",
      "6050.0    1927\n",
      "4230.0    1783\n",
      "Name: count, dtype: int64\n"
     ]
    },
    {
     "data": {
      "image/png": "[encoded data removed]",
      "text/plain": [
       "<Figure size 1200x600 with 1 Axes>"
      ]
     },
     "metadata": {},
     "output_type": "display_data"
    }
   ],
   "source": [
    "top_occupations = features['OCCP'].value_counts().head(20)\n",
    "print(top_occupations)\n",
    "\n",
    "plt.figure(figsize=(12, 6))\n",
    "plt.bar(top_occupations.index, top_occupations.values, edgecolor='k', alpha=0.7)\n",
    "plt.title(\"Top 20 Occupations by Frequency\")\n",
    "plt.xlabel(\"Occupations\")\n",
    "plt.ylabel(\"Frequency\")\n",
    "plt.xticks(rotation=45, ha=\"right\", fontsize=10)\n",
    "plt.grid(axis='y', linestyle='--', alpha=0.7)\n",
    "plt.tight_layout()\n",
    "plt.show()"
   ]
  },
  {
   "cell_type": "code",
   "execution_count": 15,
   "metadata": {},
   "outputs": [
    {
     "data": {
      "image/png": "[encoded data removed]",
      "text/plain": [
       "<Figure size 1200x800 with 1 Axes>"
      ]
     },
     "metadata": {},
     "output_type": "display_data"
    }
   ],
   "source": [
    "schl_labels = {\n",
    "    1: \"No schooling completed\",\n",
    "    2: \"Nursery school/preschool\",\n",
    "    3: \"Kindergarten\",\n",
    "    4: \"Grade 1\",\n",
    "    5: \"Grade 2\",\n",
    "    6: \"Grade 3\",\n",
    "    7: \"Grade 4\",\n",
    "    8: \"Grade 5\",\n",
    "    9: \"Grade 6\",\n",
    "    10: \"Grade 7\",\n",
    "    11: \"Grade 8\",\n",
    "    12: \"Grade 9\",\n",
    "    13: \"Grade 10\",\n",
    "    14: \"Grade 11\",\n",
    "    15: \"12th Grade - no diploma\",\n",
    "    16: \"Regular high school diploma\",\n",
    "    17: \"GED or alternative credential\",\n",
    "    18: \"Some college, less than 1 year\",\n",
    "    19: \"1+ years college, no degree\",\n",
    "    20: \"Associate's degree\",\n",
    "    21: \"Bachelor's degree\",\n",
    "    22: \"Master's degree\",\n",
    "    23: \"Professional degree\",\n",
    "    24: \"Doctorate degree\"\n",
    "}\n",
    "\n",
    "\n",
    "features['SCHL_label'] = features['SCHL'].map(schl_labels)\n",
    "\n",
    "ordered_labels = list(schl_labels.values()) \n",
    "schl_counts = features['SCHL_label'].value_counts().reindex(ordered_labels, fill_value=0)\n",
    "\n",
    "plt.figure(figsize=(12, 8))\n",
    "plt.bar(schl_counts.index, schl_counts.values, edgecolor='k', alpha=0.7)\n",
    "plt.title(\"Distribution of SCHL (Educational Attainment) - Ordered\")\n",
    "plt.xlabel(\"Educational Attainment\")\n",
    "plt.ylabel(\"Frequency\")\n",
    "plt.xticks(rotation=90, ha=\"center\", fontsize=10)\n",
    "plt.grid(axis='y', linestyle='--', alpha=0.7)\n",
    "plt.tight_layout()\n",
    "plt.show()"
   ]
  },
  {
   "cell_type": "markdown",
   "metadata": {},
   "source": [
    "### Préparer les données "
   ]
  },
  {
   "cell_type": "code",
   "execution_count": 19,
   "metadata": {},
   "outputs": [
    {
     "data": {
      "text/plain": [
       "(166315,)"
      ]
     },
     "execution_count": 19,
     "metadata": {},
     "output_type": "execute_result"
    }
   ],
   "source": [
    "\n",
    "labels=ravel(labels)\n",
    "labels.shape"
   ]
  },
  {
   "cell_type": "code",
   "execution_count": null,
   "metadata": {},
   "outputs": [
    {
     "name": "stdout",
     "output_type": "stream",
     "text": [
      "            AGEP  COW  SCHL  MAR    OCCP  POBP  RELP      WKHP  SEX  RAC1P\n",
      "76420   0.422488  6.0  21.0  1.0   410.0   6.0   0.0 -2.142223  1.0    1.0\n",
      "87544  -1.660163  1.0  14.0  5.0  4130.0   6.0  10.0 -1.988332  1.0    1.0\n",
      "125994 -1.324251  6.0  19.0  5.0  3930.0   6.0   2.0  0.166139  1.0    1.0\n",
      "159682 -0.585246  1.0  19.0  1.0   220.0   6.0   0.0  0.935594  1.0    1.0\n",
      "116907 -0.047788  1.0  20.0  1.0  7720.0   6.0  11.0  0.166139  1.0    1.0\n",
      "            AGEP  COW  SCHL  MAR    OCCP   POBP  RELP      WKHP  SEX  RAC1P\n",
      "36231   0.086577  1.0  15.0  5.0  4030.0    6.0   2.0 -0.449424  1.0    1.0\n",
      "141075  0.153759  1.0   6.0  1.0  9640.0  303.0   0.0  0.166139  2.0    8.0\n",
      "61978  -0.921158  6.0  12.0  5.0  8810.0    6.0  13.0  0.166139  1.0    1.0\n",
      "67543   0.758400  1.0  21.0  3.0  9620.0    6.0   2.0  0.166139  1.0    6.0\n",
      "1134    0.758400  1.0  21.0  1.0   440.0  303.0   1.0  0.550866  2.0    1.0\n"
     ]
    },
    {
     "data": {
      "text/plain": [
       "['scaler.joblib']"
      ]
     },
     "execution_count": 20,
     "metadata": {},
     "output_type": "execute_result"
    }
   ],
   "source": [
    "\n",
    "\n",
    "columns_to_scale = ['AGEP', 'WKHP'] \n",
    "\n",
    "x_train, x_test, y_train, y_test = train_test_split(features, labels, test_size=0.2, random_state=1)\n",
    "\n",
    "scaler = StandardScaler()\n",
    "x_train_scaled = x_train.copy()\n",
    "x_train_scaled[columns_to_scale] = scaler.fit_transform(x_train[columns_to_scale])\n",
    "\n",
    "x_test_scaled = x_test.copy()\n",
    "x_test_scaled[columns_to_scale] = scaler.transform(x_test[columns_to_scale])\n",
    "\n",
    "\n",
    "print(x_train_scaled.head())\n",
    "print(x_test_scaled.head())\n",
    "\n",
    "\n"
   ]
  },
  {
   "cell_type": "markdown",
   "metadata": {},
   "source": [
    "# Méthode des différents apprentissages "
   ]
  },
  {
   "cell_type": "markdown",
   "metadata": {},
   "source": [
    "### RandomForest (les params par défaut) "
   ]
  },
  {
   "cell_type": "code",
   "execution_count": 21,
   "metadata": {},
   "outputs": [
    {
     "name": "stdout",
     "output_type": "stream",
     "text": [
      "cv score:  [0.81372365 0.81387396 0.81055994 0.81270199 0.81232619]\n",
      "accuracy:  0.8181763521029372\n",
      "confusion matrix\n",
      "[[16727  2840]\n",
      " [ 3208 10488]]\n",
      "classification report\n",
      "              precision    recall  f1-score   support\n",
      "\n",
      "       False       0.84      0.85      0.85     19567\n",
      "        True       0.79      0.77      0.78     13696\n",
      "\n",
      "    accuracy                           0.82     33263\n",
      "   macro avg       0.81      0.81      0.81     33263\n",
      "weighted avg       0.82      0.82      0.82     33263\n",
      "\n"
     ]
    }
   ],
   "source": [
    "rf= RandomForestClassifier()\n",
    "cv_score= cross_val_score(rf,x_train_scaled,y_train,cv=5,scoring='accuracy')\n",
    "print(\"cv score: \",cv_score)\n",
    "\n",
    "rf.fit(x_train_scaled,y_train)\n",
    "y_pred= rf.predict(x_test_scaled)\n",
    "accuracy= accuracy_score(y_test,y_pred)\n",
    "conf_matrix= confusion_matrix(y_test,y_pred)\n",
    "class_report= classification_report(y_test,y_pred)\n",
    "print(\"accuracy: \",accuracy)\n",
    "print(\"confusion matrix\")\n",
    "print(conf_matrix)\n",
    "print(\"classification report\")\n",
    "print(class_report)\n"
   ]
  },
  {
   "cell_type": "code",
   "execution_count": 10,
   "metadata": {},
   "outputs": [
    {
     "name": "stdout",
     "output_type": "stream",
     "text": [
      "['AGEP' 'COW' 'SCHL' 'MAR' 'OCCP' 'POBP' 'RELP' 'WKHP' 'SEX' 'RAC1P']\n"
     ]
    },
    {
     "data": {
      "image/png": "[encoded data removed]",
      "text/plain": [
       "<Figure size 1000x600 with 1 Axes>"
      ]
     },
     "metadata": {},
     "output_type": "display_data"
    }
   ],
   "source": [
    "\n",
    "importances= rf.feature_importances_\n",
    "feature_names= features.columns.values\n",
    "print(feature_names)\n",
    "forest_importances = pd.Series(importances, index=feature_names)\n",
    "\n",
    "fig, ax = plt.subplots(figsize=(10, 6))  \n",
    "forest_importances.plot(kind='bar', ax=ax) \n",
    "ax.set_title(\"Feature Importances\")\n",
    "ax.set_ylabel(\"Mean Decrease in Impurity\")\n",
    "ax.set_xlabel(\"Features\")\n",
    "fig.tight_layout()  \n",
    "plt.show()"
   ]
  },
  {
   "cell_type": "markdown",
   "metadata": {},
   "source": [
    "### GridSearchCV for Random Forest"
   ]
  },
  {
   "cell_type": "code",
   "execution_count": null,
   "metadata": {},
   "outputs": [
    {
     "name": "stdout",
     "output_type": "stream",
     "text": [
      "Fitting 4 folds for each of 144 candidates, totalling 576 fits\n"
     ]
    },
    {
     "name": "stderr",
     "output_type": "stream",
     "text": [
      "/home/yzhang5/5sdbd/tp_super/tp_supervise/tp-supervise/lib/python3.12/site-packages/numpy/ma/core.py:2881: RuntimeWarning: invalid value encountered in cast\n",
      "  _data = np.array(data, dtype=dtype, copy=copy,\n"
     ]
    },
    {
     "name": "stdout",
     "output_type": "stream",
     "text": [
      "the best params for Random Forest: {'max_depth': None, 'max_features': 'sqrt', 'min_samples_leaf': 2, 'min_samples_split': 2, 'n_estimators': 100, 'random_state': None}\n",
      "the best score for Random Forest: 0.8179057811983285\n"
     ]
    }
   ],
   "source": [
    "rf = RandomForestClassifier()\n",
    "param_grid = {\n",
    "    'n_estimators': [50, 100],\n",
    "    'max_depth': [None, 5, 10],\n",
    "    'max_features':[\"sqrt\",\"log2\",4],\n",
    "    'min_samples_split': [2, 5],\n",
    "    'min_samples_leaf': [1, 2],\n",
    "    'random_state': [None, 42]\n",
    "}\n",
    "gridSearch=GridSearchCV(estimator=rf,param_grid=param_grid,cv=4, scoring='accuracy',verbose=1)\n",
    "\n",
    "gridSearch.fit(x_train_scaled,y_train)\n",
    "print(\"the best params for Random Forest:\", gridSearch.best_params_)\n",
    "print(\"the best score for Random Forest:\", gridSearch.best_score_)"
   ]
  },
  {
   "cell_type": "code",
   "execution_count": 41,
   "metadata": {},
   "outputs": [],
   "source": [
    "best_rf= RandomForestClassifier( max_features='sqrt', min_samples_leaf= 2, min_samples_split= 2, n_estimators= 100)\n",
    "best_rf.fit(x_train_scaled,y_train)\n",
    "y_pred= best_rf.predict(x_test_scaled)\n",
    "accuracy= accuracy_score(y_test,y_pred)\n",
    "conf_matrix= confusion_matrix(y_test,y_pred)\n",
    "class_report= classification_report(y_test,y_pred)\n"
   ]
  },
  {
   "cell_type": "code",
   "execution_count": 25,
   "metadata": {},
   "outputs": [
    {
     "name": "stdout",
     "output_type": "stream",
     "text": [
      "accuracy:  0.805158885247873\n",
      "confusion matrix\n",
      "[[16569  2998]\n",
      " [ 3483 10213]]\n",
      "classification report\n",
      "              precision    recall  f1-score   support\n",
      "\n",
      "       False       0.83      0.85      0.84     19567\n",
      "        True       0.77      0.75      0.76     13696\n",
      "\n",
      "    accuracy                           0.81     33263\n",
      "   macro avg       0.80      0.80      0.80     33263\n",
      "weighted avg       0.80      0.81      0.80     33263\n",
      "\n"
     ]
    },
    {
     "data": {
      "text/plain": [
       "['RandomForest_BestModel_08217.joblib']"
      ]
     },
     "execution_count": 25,
     "metadata": {},
     "output_type": "execute_result"
    }
   ],
   "source": [
    "print(\"accuracy: \",accuracy)\n",
    "print(\"confusion matrix\")\n",
    "print(conf_matrix)\n",
    "print(\"classification report\")\n",
    "print(class_report)\n",
    "joblib.dump(best_rf,'RandomForest_BestModel_08217.joblib')"
   ]
  },
  {
   "cell_type": "markdown",
   "metadata": {},
   "source": [
    "### AdaBoost(paramètre par défaut)"
   ]
  },
  {
   "cell_type": "code",
   "execution_count": 24,
   "metadata": {},
   "outputs": [
    {
     "name": "stderr",
     "output_type": "stream",
     "text": [
      "c:\\Users\\Administrator\\AppData\\Local\\Programs\\Python\\Python313\\Lib\\site-packages\\sklearn\\ensemble\\_weight_boosting.py:514: FutureWarning: The parameter 'algorithm' is deprecated in 1.6 and has no effect. It will be removed in version 1.8.\n",
      "  warnings.warn(\n",
      "c:\\Users\\Administrator\\AppData\\Local\\Programs\\Python\\Python313\\Lib\\site-packages\\sklearn\\ensemble\\_weight_boosting.py:514: FutureWarning: The parameter 'algorithm' is deprecated in 1.6 and has no effect. It will be removed in version 1.8.\n",
      "  warnings.warn(\n",
      "c:\\Users\\Administrator\\AppData\\Local\\Programs\\Python\\Python313\\Lib\\site-packages\\sklearn\\ensemble\\_weight_boosting.py:514: FutureWarning: The parameter 'algorithm' is deprecated in 1.6 and has no effect. It will be removed in version 1.8.\n",
      "  warnings.warn(\n",
      "c:\\Users\\Administrator\\AppData\\Local\\Programs\\Python\\Python313\\Lib\\site-packages\\sklearn\\ensemble\\_weight_boosting.py:514: FutureWarning: The parameter 'algorithm' is deprecated in 1.6 and has no effect. It will be removed in version 1.8.\n",
      "  warnings.warn(\n",
      "c:\\Users\\Administrator\\AppData\\Local\\Programs\\Python\\Python313\\Lib\\site-packages\\sklearn\\ensemble\\_weight_boosting.py:514: FutureWarning: The parameter 'algorithm' is deprecated in 1.6 and has no effect. It will be removed in version 1.8.\n",
      "  warnings.warn(\n"
     ]
    },
    {
     "name": "stdout",
     "output_type": "stream",
     "text": [
      "cv score:  0.8045876901063664\n"
     ]
    },
    {
     "name": "stderr",
     "output_type": "stream",
     "text": [
      "c:\\Users\\Administrator\\AppData\\Local\\Programs\\Python\\Python313\\Lib\\site-packages\\sklearn\\ensemble\\_weight_boosting.py:514: FutureWarning: The parameter 'algorithm' is deprecated in 1.6 and has no effect. It will be removed in version 1.8.\n",
      "  warnings.warn(\n"
     ]
    },
    {
     "name": "stdout",
     "output_type": "stream",
     "text": [
      "accuracy:  0.805158885247873\n",
      "confusion matrix\n",
      "[[16569  2998]\n",
      " [ 3483 10213]]\n"
     ]
    }
   ],
   "source": [
    "adaBoost= AdaBoostClassifier(algorithm=\"SAMME\")\n",
    "cv_score= cross_val_score(adaBoost,x_train_scaled,y_train,cv=5,scoring='accuracy').mean()\n",
    "print(\"cv score: \",cv_score)\n",
    "adaBoost.fit(x_train_scaled,y_train)\n",
    "y_pred= adaBoost.predict(x_test_scaled)\n",
    "accuracy= accuracy_score(y_test,y_pred)\n",
    "conf_matrix= confusion_matrix(y_test,y_pred)\n",
    "class_report= classification_report(y_test,y_pred)\n",
    "print(\"accuracy: \",accuracy)\n",
    "print(\"confusion matrix\")\n",
    "print(conf_matrix)\n"
   ]
  },
  {
   "cell_type": "markdown",
   "metadata": {},
   "source": [
    "### GridSearchCV for AdaBoost"
   ]
  },
  {
   "cell_type": "code",
   "execution_count": 10,
   "metadata": {},
   "outputs": [
    {
     "name": "stdout",
     "output_type": "stream",
     "text": [
      "Fitting 4 folds for each of 18 candidates, totalling 72 fits\n",
      "the best params for adaBoost: {'learning_rate': 1.0, 'n_estimators': 200, 'random_state': None}\n",
      "the best score for adaBoost: 0.8098487809277576\n"
     ]
    }
   ],
   "source": [
    "adaBoost= AdaBoostClassifier(algorithm=\"SAMME\")\n",
    "param_grid = {\n",
    "    'n_estimators': [50, 100,200],\n",
    "    'learning_rate': [0.1,0.5,1.0],\n",
    "    'random_state':[None,42]\n",
    "}\n",
    "gridSearch=GridSearchCV(estimator=adaBoost,param_grid=param_grid,cv=4, scoring='accuracy',verbose=1)\n",
    "\n",
    "gridSearch.fit(x_train_scaled,y_train)\n",
    "print(\"the best params for adaBoost:\", gridSearch.best_params_)\n",
    "print(\"the best score for adaBoost:\", gridSearch.best_score_)"
   ]
  },
  {
   "cell_type": "code",
   "execution_count": 40,
   "metadata": {},
   "outputs": [
    {
     "name": "stderr",
     "output_type": "stream",
     "text": [
      "c:\\Users\\Administrator\\AppData\\Local\\Programs\\Python\\Python313\\Lib\\site-packages\\sklearn\\ensemble\\_weight_boosting.py:514: FutureWarning: The parameter 'algorithm' is deprecated in 1.6 and has no effect. It will be removed in version 1.8.\n",
      "  warnings.warn(\n"
     ]
    },
    {
     "name": "stdout",
     "output_type": "stream",
     "text": [
      "accuracy:  0.81002916153083\n",
      "confusion matrix\n",
      "[[16588  2979]\n",
      " [ 3340 10356]]\n",
      "classification report\n",
      "              precision    recall  f1-score   support\n",
      "\n",
      "       False       0.83      0.85      0.84     19567\n",
      "        True       0.78      0.76      0.77     13696\n",
      "\n",
      "    accuracy                           0.81     33263\n",
      "   macro avg       0.80      0.80      0.80     33263\n",
      "weighted avg       0.81      0.81      0.81     33263\n",
      "\n"
     ]
    }
   ],
   "source": [
    "best_adaBoost= AdaBoostClassifier(algorithm=\"SAMME\",learning_rate=1.0, n_estimators= 200)\n",
    "best_adaBoost.fit(x_train_scaled,y_train)\n",
    "y_pred= best_adaBoost.predict(x_test_scaled)\n",
    "accuracy= accuracy_score(y_test,y_pred)\n",
    "conf_matrix= confusion_matrix(y_test,y_pred)\n",
    "class_report= classification_report(y_test,y_pred)\n",
    "print(\"accuracy: \",accuracy)\n",
    "print(\"confusion matrix\")\n",
    "print(conf_matrix)\n",
    "print(\"classification report\")\n",
    "print(class_report)\n"
   ]
  },
  {
   "cell_type": "code",
   "execution_count": 31,
   "metadata": {},
   "outputs": [
    {
     "data": {
      "text/plain": [
       "['AdaBoost_BestModel_08100.joblib']"
      ]
     },
     "execution_count": 31,
     "metadata": {},
     "output_type": "execute_result"
    }
   ],
   "source": [
    "\n",
    "joblib.dump(best_rf,'AdaBoost_BestModel_08100.joblib')"
   ]
  },
  {
   "cell_type": "markdown",
   "metadata": {},
   "source": [
    "### GradientBoosting(paramètre par défaut)"
   ]
  },
  {
   "cell_type": "code",
   "execution_count": 29,
   "metadata": {},
   "outputs": [
    {
     "name": "stdout",
     "output_type": "stream",
     "text": [
      "cv score:  [0.81364849 0.81612867 0.81397971 0.8149192  0.81563322]\n",
      "accuracy:  0.8137570273276614\n",
      "confusion matrix\n",
      "[[16620  2947]\n",
      " [ 3248 10448]]\n"
     ]
    }
   ],
   "source": [
    "gradientBoosting= GradientBoostingClassifier()\n",
    "cv_score= cross_val_score(gradientBoosting,x_train_scaled,y_train,cv=5,scoring='accuracy')\n",
    "print(\"cv score: \",cv_score)\n",
    "\n",
    "gradientBoosting.fit(x_train_scaled,y_train)\n",
    "y_pred= gradientBoosting.predict(x_test_scaled)\n",
    "accuracy= accuracy_score(y_test,y_pred)\n",
    "conf_matrix= confusion_matrix(y_test,y_pred)\n",
    "class_report= classification_report(y_test,y_pred)\n",
    "print(\"accuracy: \",accuracy)\n",
    "print(\"confusion matrix\")\n",
    "print(conf_matrix)\n",
    "\n"
   ]
  },
  {
   "cell_type": "markdown",
   "metadata": {},
   "source": [
    "### GridSearchCV for GradientBoost"
   ]
  },
  {
   "cell_type": "code",
   "execution_count": 12,
   "metadata": {},
   "outputs": [
    {
     "name": "stdout",
     "output_type": "stream",
     "text": [
      "Fitting 4 folds for each of 72 candidates, totalling 288 fits\n",
      "the best params for gradientBoost: {'learning_rate': 0.2, 'max_depth': 7, 'n_estimators': 100, 'random_state': 42, 'subsample': 1.0}\n",
      "the best score for gradientBoost: 0.8260905510627423\n"
     ]
    }
   ],
   "source": [
    "gradientBoosting= GradientBoostingClassifier()\n",
    "param_grid = {\n",
    "    'n_estimators': [50, 100],\n",
    "    'learning_rate': [0.1,0.2,0.5],\n",
    "    'random_state':[None,42],\n",
    "    'subsample':[0.8,1.0],\n",
    "    'max_depth':[3,5,7]\n",
    "}\n",
    "gridSearch=GridSearchCV(estimator=gradientBoosting,param_grid=param_grid,cv=4, scoring='accuracy',verbose=1)\n",
    "\n",
    "gridSearch.fit(x_train_scaled,y_train)\n",
    "print(\"the best params for gradientBoost:\", gridSearch.best_params_)\n",
    "print(\"the best score for gradientBoost:\", gridSearch.best_score_)"
   ]
  },
  {
   "cell_type": "code",
   "execution_count": 39,
   "metadata": {},
   "outputs": [
    {
     "name": "stdout",
     "output_type": "stream",
     "text": [
      "accuracy:  0.8287286173826774\n",
      "confusion matrix\n",
      "[[16775  2792]\n",
      " [ 2905 10791]]\n",
      "classification report\n",
      "              precision    recall  f1-score   support\n",
      "\n",
      "       False       0.85      0.86      0.85     19567\n",
      "        True       0.79      0.79      0.79     13696\n",
      "\n",
      "    accuracy                           0.83     33263\n",
      "   macro avg       0.82      0.82      0.82     33263\n",
      "weighted avg       0.83      0.83      0.83     33263\n",
      "\n"
     ]
    }
   ],
   "source": [
    "best_gradientBoosting= GradientBoostingClassifier(learning_rate=0.2, max_depth=7,n_estimators=100, random_state=42, subsample= 1.0)\n",
    "best_gradientBoosting.fit(x_train_scaled,y_train)\n",
    "y_pred= best_gradientBoosting.predict(x_test_scaled)\n",
    "accuracy= accuracy_score(y_test,y_pred)\n",
    "conf_matrix= confusion_matrix(y_test,y_pred)\n",
    "class_report= classification_report(y_test,y_pred)\n",
    "print(\"accuracy: \",accuracy)\n",
    "print(\"confusion matrix\")\n",
    "print(conf_matrix)\n",
    "print(\"classification report\")\n",
    "print(class_report)\n"
   ]
  },
  {
   "cell_type": "code",
   "execution_count": 33,
   "metadata": {},
   "outputs": [
    {
     "data": {
      "text/plain": [
       "['GradientBoosting_BestModel_08287.joblib']"
      ]
     },
     "execution_count": 33,
     "metadata": {},
     "output_type": "execute_result"
    }
   ],
   "source": [
    "joblib.dump(best_gradientBoosting,'GradientBoosting_BestModel_08287.joblib')"
   ]
  },
  {
   "cell_type": "markdown",
   "metadata": {},
   "source": [
    "### Stacking méthode (paramètre par défaut )"
   ]
  },
  {
   "cell_type": "code",
   "execution_count": 34,
   "metadata": {},
   "outputs": [
    {
     "name": "stderr",
     "output_type": "stream",
     "text": [
      "c:\\Users\\Administrator\\AppData\\Local\\Programs\\Python\\Python313\\Lib\\site-packages\\sklearn\\ensemble\\_weight_boosting.py:514: FutureWarning: The parameter 'algorithm' is deprecated in 1.6 and has no effect. It will be removed in version 1.8.\n",
      "  warnings.warn(\n",
      "c:\\Users\\Administrator\\AppData\\Local\\Programs\\Python\\Python313\\Lib\\site-packages\\sklearn\\ensemble\\_weight_boosting.py:514: FutureWarning: The parameter 'algorithm' is deprecated in 1.6 and has no effect. It will be removed in version 1.8.\n",
      "  warnings.warn(\n",
      "c:\\Users\\Administrator\\AppData\\Local\\Programs\\Python\\Python313\\Lib\\site-packages\\sklearn\\ensemble\\_weight_boosting.py:514: FutureWarning: The parameter 'algorithm' is deprecated in 1.6 and has no effect. It will be removed in version 1.8.\n",
      "  warnings.warn(\n",
      "c:\\Users\\Administrator\\AppData\\Local\\Programs\\Python\\Python313\\Lib\\site-packages\\sklearn\\ensemble\\_weight_boosting.py:514: FutureWarning: The parameter 'algorithm' is deprecated in 1.6 and has no effect. It will be removed in version 1.8.\n",
      "  warnings.warn(\n",
      "c:\\Users\\Administrator\\AppData\\Local\\Programs\\Python\\Python313\\Lib\\site-packages\\sklearn\\ensemble\\_weight_boosting.py:514: FutureWarning: The parameter 'algorithm' is deprecated in 1.6 and has no effect. It will be removed in version 1.8.\n",
      "  warnings.warn(\n",
      "c:\\Users\\Administrator\\AppData\\Local\\Programs\\Python\\Python313\\Lib\\site-packages\\sklearn\\ensemble\\_weight_boosting.py:514: FutureWarning: The parameter 'algorithm' is deprecated in 1.6 and has no effect. It will be removed in version 1.8.\n",
      "  warnings.warn(\n",
      "c:\\Users\\Administrator\\AppData\\Local\\Programs\\Python\\Python313\\Lib\\site-packages\\sklearn\\ensemble\\_weight_boosting.py:514: FutureWarning: The parameter 'algorithm' is deprecated in 1.6 and has no effect. It will be removed in version 1.8.\n",
      "  warnings.warn(\n",
      "c:\\Users\\Administrator\\AppData\\Local\\Programs\\Python\\Python313\\Lib\\site-packages\\sklearn\\ensemble\\_weight_boosting.py:514: FutureWarning: The parameter 'algorithm' is deprecated in 1.6 and has no effect. It will be removed in version 1.8.\n",
      "  warnings.warn(\n",
      "c:\\Users\\Administrator\\AppData\\Local\\Programs\\Python\\Python313\\Lib\\site-packages\\sklearn\\ensemble\\_weight_boosting.py:514: FutureWarning: The parameter 'algorithm' is deprecated in 1.6 and has no effect. It will be removed in version 1.8.\n",
      "  warnings.warn(\n",
      "c:\\Users\\Administrator\\AppData\\Local\\Programs\\Python\\Python313\\Lib\\site-packages\\sklearn\\ensemble\\_weight_boosting.py:514: FutureWarning: The parameter 'algorithm' is deprecated in 1.6 and has no effect. It will be removed in version 1.8.\n",
      "  warnings.warn(\n",
      "c:\\Users\\Administrator\\AppData\\Local\\Programs\\Python\\Python313\\Lib\\site-packages\\sklearn\\ensemble\\_weight_boosting.py:514: FutureWarning: The parameter 'algorithm' is deprecated in 1.6 and has no effect. It will be removed in version 1.8.\n",
      "  warnings.warn(\n",
      "c:\\Users\\Administrator\\AppData\\Local\\Programs\\Python\\Python313\\Lib\\site-packages\\sklearn\\ensemble\\_weight_boosting.py:514: FutureWarning: The parameter 'algorithm' is deprecated in 1.6 and has no effect. It will be removed in version 1.8.\n",
      "  warnings.warn(\n",
      "c:\\Users\\Administrator\\AppData\\Local\\Programs\\Python\\Python313\\Lib\\site-packages\\sklearn\\ensemble\\_weight_boosting.py:514: FutureWarning: The parameter 'algorithm' is deprecated in 1.6 and has no effect. It will be removed in version 1.8.\n",
      "  warnings.warn(\n",
      "c:\\Users\\Administrator\\AppData\\Local\\Programs\\Python\\Python313\\Lib\\site-packages\\sklearn\\ensemble\\_weight_boosting.py:514: FutureWarning: The parameter 'algorithm' is deprecated in 1.6 and has no effect. It will be removed in version 1.8.\n",
      "  warnings.warn(\n",
      "c:\\Users\\Administrator\\AppData\\Local\\Programs\\Python\\Python313\\Lib\\site-packages\\sklearn\\ensemble\\_weight_boosting.py:514: FutureWarning: The parameter 'algorithm' is deprecated in 1.6 and has no effect. It will be removed in version 1.8.\n",
      "  warnings.warn(\n",
      "c:\\Users\\Administrator\\AppData\\Local\\Programs\\Python\\Python313\\Lib\\site-packages\\sklearn\\ensemble\\_weight_boosting.py:514: FutureWarning: The parameter 'algorithm' is deprecated in 1.6 and has no effect. It will be removed in version 1.8.\n",
      "  warnings.warn(\n",
      "c:\\Users\\Administrator\\AppData\\Local\\Programs\\Python\\Python313\\Lib\\site-packages\\sklearn\\ensemble\\_weight_boosting.py:514: FutureWarning: The parameter 'algorithm' is deprecated in 1.6 and has no effect. It will be removed in version 1.8.\n",
      "  warnings.warn(\n",
      "c:\\Users\\Administrator\\AppData\\Local\\Programs\\Python\\Python313\\Lib\\site-packages\\sklearn\\ensemble\\_weight_boosting.py:514: FutureWarning: The parameter 'algorithm' is deprecated in 1.6 and has no effect. It will be removed in version 1.8.\n",
      "  warnings.warn(\n",
      "c:\\Users\\Administrator\\AppData\\Local\\Programs\\Python\\Python313\\Lib\\site-packages\\sklearn\\ensemble\\_weight_boosting.py:514: FutureWarning: The parameter 'algorithm' is deprecated in 1.6 and has no effect. It will be removed in version 1.8.\n",
      "  warnings.warn(\n",
      "c:\\Users\\Administrator\\AppData\\Local\\Programs\\Python\\Python313\\Lib\\site-packages\\sklearn\\ensemble\\_weight_boosting.py:514: FutureWarning: The parameter 'algorithm' is deprecated in 1.6 and has no effect. It will be removed in version 1.8.\n",
      "  warnings.warn(\n",
      "c:\\Users\\Administrator\\AppData\\Local\\Programs\\Python\\Python313\\Lib\\site-packages\\sklearn\\ensemble\\_weight_boosting.py:514: FutureWarning: The parameter 'algorithm' is deprecated in 1.6 and has no effect. It will be removed in version 1.8.\n",
      "  warnings.warn(\n",
      "c:\\Users\\Administrator\\AppData\\Local\\Programs\\Python\\Python313\\Lib\\site-packages\\sklearn\\ensemble\\_weight_boosting.py:514: FutureWarning: The parameter 'algorithm' is deprecated in 1.6 and has no effect. It will be removed in version 1.8.\n",
      "  warnings.warn(\n",
      "c:\\Users\\Administrator\\AppData\\Local\\Programs\\Python\\Python313\\Lib\\site-packages\\sklearn\\ensemble\\_weight_boosting.py:514: FutureWarning: The parameter 'algorithm' is deprecated in 1.6 and has no effect. It will be removed in version 1.8.\n",
      "  warnings.warn(\n",
      "c:\\Users\\Administrator\\AppData\\Local\\Programs\\Python\\Python313\\Lib\\site-packages\\sklearn\\ensemble\\_weight_boosting.py:514: FutureWarning: The parameter 'algorithm' is deprecated in 1.6 and has no effect. It will be removed in version 1.8.\n",
      "  warnings.warn(\n",
      "c:\\Users\\Administrator\\AppData\\Local\\Programs\\Python\\Python313\\Lib\\site-packages\\sklearn\\ensemble\\_weight_boosting.py:514: FutureWarning: The parameter 'algorithm' is deprecated in 1.6 and has no effect. It will be removed in version 1.8.\n",
      "  warnings.warn(\n",
      "c:\\Users\\Administrator\\AppData\\Local\\Programs\\Python\\Python313\\Lib\\site-packages\\sklearn\\ensemble\\_weight_boosting.py:514: FutureWarning: The parameter 'algorithm' is deprecated in 1.6 and has no effect. It will be removed in version 1.8.\n",
      "  warnings.warn(\n",
      "c:\\Users\\Administrator\\AppData\\Local\\Programs\\Python\\Python313\\Lib\\site-packages\\sklearn\\ensemble\\_weight_boosting.py:514: FutureWarning: The parameter 'algorithm' is deprecated in 1.6 and has no effect. It will be removed in version 1.8.\n",
      "  warnings.warn(\n",
      "c:\\Users\\Administrator\\AppData\\Local\\Programs\\Python\\Python313\\Lib\\site-packages\\sklearn\\ensemble\\_weight_boosting.py:514: FutureWarning: The parameter 'algorithm' is deprecated in 1.6 and has no effect. It will be removed in version 1.8.\n",
      "  warnings.warn(\n",
      "c:\\Users\\Administrator\\AppData\\Local\\Programs\\Python\\Python313\\Lib\\site-packages\\sklearn\\ensemble\\_weight_boosting.py:514: FutureWarning: The parameter 'algorithm' is deprecated in 1.6 and has no effect. It will be removed in version 1.8.\n",
      "  warnings.warn(\n",
      "c:\\Users\\Administrator\\AppData\\Local\\Programs\\Python\\Python313\\Lib\\site-packages\\sklearn\\ensemble\\_weight_boosting.py:514: FutureWarning: The parameter 'algorithm' is deprecated in 1.6 and has no effect. It will be removed in version 1.8.\n",
      "  warnings.warn(\n"
     ]
    },
    {
     "name": "stdout",
     "output_type": "stream",
     "text": [
      "cv score:  [0.81823306 0.81812033 0.81709884 0.81950395 0.81897783]\n"
     ]
    },
    {
     "name": "stderr",
     "output_type": "stream",
     "text": [
      "c:\\Users\\Administrator\\AppData\\Local\\Programs\\Python\\Python313\\Lib\\site-packages\\sklearn\\ensemble\\_weight_boosting.py:514: FutureWarning: The parameter 'algorithm' is deprecated in 1.6 and has no effect. It will be removed in version 1.8.\n",
      "  warnings.warn(\n",
      "c:\\Users\\Administrator\\AppData\\Local\\Programs\\Python\\Python313\\Lib\\site-packages\\sklearn\\ensemble\\_weight_boosting.py:514: FutureWarning: The parameter 'algorithm' is deprecated in 1.6 and has no effect. It will be removed in version 1.8.\n",
      "  warnings.warn(\n",
      "c:\\Users\\Administrator\\AppData\\Local\\Programs\\Python\\Python313\\Lib\\site-packages\\sklearn\\ensemble\\_weight_boosting.py:514: FutureWarning: The parameter 'algorithm' is deprecated in 1.6 and has no effect. It will be removed in version 1.8.\n",
      "  warnings.warn(\n",
      "c:\\Users\\Administrator\\AppData\\Local\\Programs\\Python\\Python313\\Lib\\site-packages\\sklearn\\ensemble\\_weight_boosting.py:514: FutureWarning: The parameter 'algorithm' is deprecated in 1.6 and has no effect. It will be removed in version 1.8.\n",
      "  warnings.warn(\n",
      "c:\\Users\\Administrator\\AppData\\Local\\Programs\\Python\\Python313\\Lib\\site-packages\\sklearn\\ensemble\\_weight_boosting.py:514: FutureWarning: The parameter 'algorithm' is deprecated in 1.6 and has no effect. It will be removed in version 1.8.\n",
      "  warnings.warn(\n",
      "c:\\Users\\Administrator\\AppData\\Local\\Programs\\Python\\Python313\\Lib\\site-packages\\sklearn\\ensemble\\_weight_boosting.py:514: FutureWarning: The parameter 'algorithm' is deprecated in 1.6 and has no effect. It will be removed in version 1.8.\n",
      "  warnings.warn(\n"
     ]
    },
    {
     "name": "stdout",
     "output_type": "stream",
     "text": [
      "accuracy:  0.8218440910320777\n",
      "confusion matrix\n",
      "[[16818  2749]\n",
      " [ 3177 10519]]\n"
     ]
    }
   ],
   "source": [
    "\n",
    "estimators = [\n",
    "    ('ada',AdaBoostClassifier(algorithm='SAMME')),\n",
    "    ('rf', RandomForestClassifier(random_state=42)),\n",
    "    ('gb',GradientBoostingClassifier(random_state=42))\n",
    "]\n",
    "\n",
    "clf=StackingClassifier(\n",
    "    estimators=estimators, final_estimator=LogisticRegression()\n",
    ")\n",
    "\n",
    "cv_score= cross_val_score(clf,x_train_scaled,y_train,cv=5,scoring='accuracy')\n",
    "print(\"cv score: \",cv_score)\n",
    "\n",
    "clf.fit(x_train_scaled,y_train)\n",
    "y_pred= clf.predict(x_test_scaled)\n",
    "accuracy= accuracy_score(y_test,y_pred)\n",
    "conf_matrix= confusion_matrix(y_test,y_pred)\n",
    "class_report= classification_report(y_test,y_pred)\n",
    "print(\"accuracy: \",accuracy)\n",
    "print(\"confusion matrix\")\n",
    "print(conf_matrix)"
   ]
  },
  {
   "cell_type": "markdown",
   "metadata": {},
   "source": [
    "#### Best parametre for each model"
   ]
  },
  {
   "cell_type": "code",
   "execution_count": 36,
   "metadata": {},
   "outputs": [
    {
     "name": "stderr",
     "output_type": "stream",
     "text": [
      "c:\\Users\\Administrator\\AppData\\Local\\Programs\\Python\\Python313\\Lib\\site-packages\\sklearn\\ensemble\\_weight_boosting.py:514: FutureWarning: The parameter 'algorithm' is deprecated in 1.6 and has no effect. It will be removed in version 1.8.\n",
      "  warnings.warn(\n",
      "c:\\Users\\Administrator\\AppData\\Local\\Programs\\Python\\Python313\\Lib\\site-packages\\sklearn\\ensemble\\_weight_boosting.py:514: FutureWarning: The parameter 'algorithm' is deprecated in 1.6 and has no effect. It will be removed in version 1.8.\n",
      "  warnings.warn(\n",
      "c:\\Users\\Administrator\\AppData\\Local\\Programs\\Python\\Python313\\Lib\\site-packages\\sklearn\\ensemble\\_weight_boosting.py:514: FutureWarning: The parameter 'algorithm' is deprecated in 1.6 and has no effect. It will be removed in version 1.8.\n",
      "  warnings.warn(\n",
      "c:\\Users\\Administrator\\AppData\\Local\\Programs\\Python\\Python313\\Lib\\site-packages\\sklearn\\ensemble\\_weight_boosting.py:514: FutureWarning: The parameter 'algorithm' is deprecated in 1.6 and has no effect. It will be removed in version 1.8.\n",
      "  warnings.warn(\n",
      "c:\\Users\\Administrator\\AppData\\Local\\Programs\\Python\\Python313\\Lib\\site-packages\\sklearn\\ensemble\\_weight_boosting.py:514: FutureWarning: The parameter 'algorithm' is deprecated in 1.6 and has no effect. It will be removed in version 1.8.\n",
      "  warnings.warn(\n",
      "c:\\Users\\Administrator\\AppData\\Local\\Programs\\Python\\Python313\\Lib\\site-packages\\sklearn\\ensemble\\_weight_boosting.py:514: FutureWarning: The parameter 'algorithm' is deprecated in 1.6 and has no effect. It will be removed in version 1.8.\n",
      "  warnings.warn(\n"
     ]
    },
    {
     "name": "stdout",
     "output_type": "stream",
     "text": [
      "StackingClassifier(estimators=[('ada',\n",
      "                                AdaBoostClassifier(algorithm='SAMME',\n",
      "                                                   n_estimators=200)),\n",
      "                               ('rf',\n",
      "                                RandomForestClassifier(min_samples_leaf=2)),\n",
      "                               ('gb',\n",
      "                                GradientBoostingClassifier(learning_rate=0.2,\n",
      "                                                           max_depth=7,\n",
      "                                                           random_state=42))],\n",
      "                   final_estimator=LogisticRegression())\n",
      "accuracy:  0.8289390614195954\n",
      "confusion matrix\n",
      "[[16848  2719]\n",
      " [ 2971 10725]]\n",
      "class_report: \n",
      "                precision    recall  f1-score   support\n",
      "\n",
      "       False       0.85      0.86      0.86     19567\n",
      "        True       0.80      0.78      0.79     13696\n",
      "\n",
      "    accuracy                           0.83     33263\n",
      "   macro avg       0.82      0.82      0.82     33263\n",
      "weighted avg       0.83      0.83      0.83     33263\n",
      "\n"
     ]
    }
   ],
   "source": [
    "best_rf= RandomForestClassifier( max_features='sqrt', min_samples_leaf= 2, min_samples_split= 2, n_estimators= 100)\n",
    "best_adaBoost= AdaBoostClassifier(algorithm=\"SAMME\",learning_rate=1.0, n_estimators= 200)\n",
    "best_gradientBoosting= GradientBoostingClassifier(learning_rate=0.2, max_depth=7,n_estimators=100, random_state=42, subsample= 1.0)\n",
    "estimators = [\n",
    "    ('ada',best_adaBoost),\n",
    "    ('rf', best_rf),\n",
    "    ('gb',best_gradientBoosting)\n",
    "]\n",
    "\n",
    "best_staking=clf=StackingClassifier(\n",
    "    estimators=estimators, final_estimator=LogisticRegression()\n",
    ")\n",
    "\n",
    "best_staking.fit(x_train_scaled,y_train)\n",
    "y_pred= best_staking.predict(x_test_scaled)\n",
    "print(best_staking)\n",
    "accuracy= accuracy_score(y_test,y_pred)\n",
    "conf_matrix= confusion_matrix(y_test,y_pred)\n",
    "class_report= classification_report(y_test,y_pred)\n",
    "print(\"accuracy: \",accuracy)\n",
    "print(\"confusion matrix\")\n",
    "print(conf_matrix)\n",
    "print(\"class_report: \\n \",class_report)"
   ]
  },
  {
   "cell_type": "code",
   "execution_count": 37,
   "metadata": {},
   "outputs": [
    {
     "data": {
      "text/plain": [
       "['Staking_BestModel_08289.joblib']"
      ]
     },
     "execution_count": 37,
     "metadata": {},
     "output_type": "execute_result"
    }
   ],
   "source": [
    "joblib.dump(best_staking,'Staking_BestModel_08289.joblib')"
   ]
  },
  {
   "cell_type": "markdown",
   "metadata": {},
   "source": [
    "# test with other dataset"
   ]
  },
  {
   "cell_type": "code",
   "execution_count": 45,
   "metadata": {},
   "outputs": [
    {
     "name": "stdout",
     "output_type": "stream",
     "text": [
      "RandomForestClassifier(min_samples_leaf=2)\n",
      "accuracy:  0.7588317107093185\n",
      "confusion matrix\n",
      "[[5487 1930]\n",
      " [ 671 2697]]\n",
      "class_report: \n",
      "                precision    recall  f1-score   support\n",
      "\n",
      "           0       0.89      0.74      0.81      7417\n",
      "           1       0.58      0.80      0.67      3368\n",
      "\n",
      "    accuracy                           0.76     10785\n",
      "   macro avg       0.74      0.77      0.74     10785\n",
      "weighted avg       0.79      0.76      0.77     10785\n",
      "\n",
      "AdaBoostClassifier(algorithm='SAMME', n_estimators=200)\n",
      "accuracy:  0.7375057950857673\n",
      "confusion matrix\n",
      "[[5202 2215]\n",
      " [ 616 2752]]\n",
      "class_report: \n",
      "                precision    recall  f1-score   support\n",
      "\n",
      "           0       0.89      0.70      0.79      7417\n",
      "           1       0.55      0.82      0.66      3368\n",
      "\n",
      "    accuracy                           0.74     10785\n",
      "   macro avg       0.72      0.76      0.72     10785\n",
      "weighted avg       0.79      0.74      0.75     10785\n",
      "\n",
      "GradientBoostingClassifier(learning_rate=0.2, max_depth=7, random_state=42)\n",
      "accuracy:  0.7757070004636069\n",
      "confusion matrix\n",
      "[[5738 1679]\n",
      " [ 740 2628]]\n",
      "class_report: \n",
      "                precision    recall  f1-score   support\n",
      "\n",
      "           0       0.89      0.77      0.83      7417\n",
      "           1       0.61      0.78      0.68      3368\n",
      "\n",
      "    accuracy                           0.78     10785\n",
      "   macro avg       0.75      0.78      0.76     10785\n",
      "weighted avg       0.80      0.78      0.78     10785\n",
      "\n",
      "StackingClassifier(estimators=[('ada',\n",
      "                                AdaBoostClassifier(algorithm='SAMME',\n",
      "                                                   n_estimators=200)),\n",
      "                               ('rf',\n",
      "                                RandomForestClassifier(min_samples_leaf=2)),\n",
      "                               ('gb',\n",
      "                                GradientBoostingClassifier(learning_rate=0.2,\n",
      "                                                           max_depth=7,\n",
      "                                                           random_state=42))],\n",
      "                   final_estimator=LogisticRegression())\n",
      "accuracy:  0.7723690310616597\n",
      "confusion matrix\n",
      "[[5628 1789]\n",
      " [ 666 2702]]\n",
      "class_report: \n",
      "                precision    recall  f1-score   support\n",
      "\n",
      "           0       0.89      0.76      0.82      7417\n",
      "           1       0.60      0.80      0.69      3368\n",
      "\n",
      "    accuracy                           0.77     10785\n",
      "   macro avg       0.75      0.78      0.75     10785\n",
      "weighted avg       0.80      0.77      0.78     10785\n",
      "\n"
     ]
    }
   ],
   "source": [
    "features_test = pd.read_csv('acsincome_ne_features.csv')\n",
    "labels_test = pd.read_csv('acsincome_ne_labelTP2.csv')\n",
    "features_test_scaled = features_test.copy()\n",
    "features_test_scaled[columns_to_scale] = scaler.transform(features_test[columns_to_scale])\n",
    "\n",
    "models=[best_rf,best_adaBoost,best_gradientBoosting,best_staking]\n",
    "\n",
    "for i in models:\n",
    "    y_pred= i.predict(features_test_scaled)\n",
    "    print(i)\n",
    "    accuracy= accuracy_score(labels_test,y_pred)\n",
    "    conf_matrix= confusion_matrix(labels_test,y_pred)\n",
    "    class_report= classification_report(labels_test,y_pred)\n",
    "    print(\"accuracy: \",accuracy)\n",
    "    print(\"confusion matrix\")\n",
    "    print(conf_matrix)\n",
    "    print(\"class_report: \\n \",class_report)\n"
   ]
  },
  {
   "cell_type": "code",
   "execution_count": 46,
   "metadata": {},
   "outputs": [
    {
     "name": "stdout",
     "output_type": "stream",
     "text": [
      "RandomForestClassifier(min_samples_leaf=2)\n",
      "accuracy:  0.7870376285696032\n",
      "confusion matrix\n",
      "[[14325  4009]\n",
      " [ 2658 10314]]\n",
      "class_report: \n",
      "                precision    recall  f1-score   support\n",
      "\n",
      "           0       0.84      0.78      0.81     18334\n",
      "           1       0.72      0.80      0.76     12972\n",
      "\n",
      "    accuracy                           0.79     31306\n",
      "   macro avg       0.78      0.79      0.78     31306\n",
      "weighted avg       0.79      0.79      0.79     31306\n",
      "\n",
      "AdaBoostClassifier(algorithm='SAMME', n_estimators=200)\n",
      "accuracy:  0.7766881747907749\n",
      "confusion matrix\n",
      "[[13638  4696]\n",
      " [ 2295 10677]]\n",
      "class_report: \n",
      "                precision    recall  f1-score   support\n",
      "\n",
      "           0       0.86      0.74      0.80     18334\n",
      "           1       0.69      0.82      0.75     12972\n",
      "\n",
      "    accuracy                           0.78     31306\n",
      "   macro avg       0.78      0.78      0.77     31306\n",
      "weighted avg       0.79      0.78      0.78     31306\n",
      "\n",
      "GradientBoostingClassifier(learning_rate=0.2, max_depth=7, random_state=42)\n",
      "accuracy:  0.7948316616623011\n",
      "confusion matrix\n",
      "[[14654  3680]\n",
      " [ 2743 10229]]\n",
      "class_report: \n",
      "                precision    recall  f1-score   support\n",
      "\n",
      "           0       0.84      0.80      0.82     18334\n",
      "           1       0.74      0.79      0.76     12972\n",
      "\n",
      "    accuracy                           0.79     31306\n",
      "   macro avg       0.79      0.79      0.79     31306\n",
      "weighted avg       0.80      0.79      0.80     31306\n",
      "\n",
      "StackingClassifier(estimators=[('ada',\n",
      "                                AdaBoostClassifier(algorithm='SAMME',\n",
      "                                                   n_estimators=200)),\n",
      "                               ('rf',\n",
      "                                RandomForestClassifier(min_samples_leaf=2)),\n",
      "                               ('gb',\n",
      "                                GradientBoostingClassifier(learning_rate=0.2,\n",
      "                                                           max_depth=7,\n",
      "                                                           random_state=42))],\n",
      "                   final_estimator=LogisticRegression())\n",
      "accuracy:  0.7947997189037245\n",
      "confusion matrix\n",
      "[[14524  3810]\n",
      " [ 2614 10358]]\n",
      "class_report: \n",
      "                precision    recall  f1-score   support\n",
      "\n",
      "           0       0.85      0.79      0.82     18334\n",
      "           1       0.73      0.80      0.76     12972\n",
      "\n",
      "    accuracy                           0.79     31306\n",
      "   macro avg       0.79      0.80      0.79     31306\n",
      "weighted avg       0.80      0.79      0.80     31306\n",
      "\n"
     ]
    }
   ],
   "source": [
    "features_test = pd.read_csv('acsincome_co_features.csv')\n",
    "labels_test = pd.read_csv('acsincome_co_label.csv')\n",
    "\n",
    "\n",
    "features_test_scaled = features_test.copy()\n",
    "features_test_scaled[columns_to_scale] = scaler.transform(features_test[columns_to_scale])\n",
    "\n",
    "models=[best_rf,best_adaBoost,best_gradientBoosting,best_staking]\n",
    "for i in models:\n",
    "    y_pred= i.predict(features_test_scaled)\n",
    "    print(i)\n",
    "    accuracy= accuracy_score(labels_test,y_pred)\n",
    "    conf_matrix= confusion_matrix(labels_test,y_pred)\n",
    "    class_report= classification_report(labels_test,y_pred)\n",
    "    print(\"accuracy: \",accuracy)\n",
    "    print(\"confusion matrix\")\n",
    "    print(conf_matrix)\n",
    "    print(\"class_report: \\n \",class_report)"
   ]
  },
  {
   "cell_type": "code",
   "execution_count": null,
   "metadata": {},
   "outputs": [],
   "source": []
  }
 ],
 "metadata": {
  "kernelspec": {
   "display_name": "Python 3",
   "language": "python",
   "name": "python3"
  },
  "language_info": {
   "codemirror_mode": {
    "name": "ipython",
    "version": 3
   },
   "file_extension": ".py",
   "mimetype": "text/x-python",
   "name": "python",
   "nbconvert_exporter": "python",
   "pygments_lexer": "ipython3",
   "version": "3.13.0"
  }
 },
 "nbformat": 4,
 "nbformat_minor": 2
}
